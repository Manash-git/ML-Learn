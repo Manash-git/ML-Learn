{
 "cells": [
  {
   "cell_type": "markdown",
   "metadata": {},
   "source": [
    "## Multiple Linear regression\n",
    "### This a straightforward All-In model training practise.\n"
   ]
  },
  {
   "cell_type": "code",
   "execution_count": 1,
   "metadata": {},
   "outputs": [],
   "source": [
    "import numpy as np\n",
    "import matplotlib.pyplot as plt     # for plotting\n",
    "import pandas as pd                # for data handling"
   ]
  },
  {
   "cell_type": "code",
   "execution_count": 2,
   "metadata": {},
   "outputs": [
    {
     "data": {
      "text/html": [
       "<div>\n",
       "<style scoped>\n",
       "    .dataframe tbody tr th:only-of-type {\n",
       "        vertical-align: middle;\n",
       "    }\n",
       "\n",
       "    .dataframe tbody tr th {\n",
       "        vertical-align: top;\n",
       "    }\n",
       "\n",
       "    .dataframe thead th {\n",
       "        text-align: right;\n",
       "    }\n",
       "</style>\n",
       "<table border=\"1\" class=\"dataframe\">\n",
       "  <thead>\n",
       "    <tr style=\"text-align: right;\">\n",
       "      <th></th>\n",
       "      <th>R&amp;D Spend</th>\n",
       "      <th>Administration</th>\n",
       "      <th>Marketing Spend</th>\n",
       "      <th>State</th>\n",
       "      <th>Profit</th>\n",
       "    </tr>\n",
       "  </thead>\n",
       "  <tbody>\n",
       "    <tr>\n",
       "      <th>0</th>\n",
       "      <td>165349.20</td>\n",
       "      <td>136897.80</td>\n",
       "      <td>471784.10</td>\n",
       "      <td>New York</td>\n",
       "      <td>192261.83</td>\n",
       "    </tr>\n",
       "    <tr>\n",
       "      <th>1</th>\n",
       "      <td>162597.70</td>\n",
       "      <td>151377.59</td>\n",
       "      <td>443898.53</td>\n",
       "      <td>California</td>\n",
       "      <td>191792.06</td>\n",
       "    </tr>\n",
       "    <tr>\n",
       "      <th>2</th>\n",
       "      <td>153441.51</td>\n",
       "      <td>101145.55</td>\n",
       "      <td>407934.54</td>\n",
       "      <td>Florida</td>\n",
       "      <td>191050.39</td>\n",
       "    </tr>\n",
       "    <tr>\n",
       "      <th>3</th>\n",
       "      <td>144372.41</td>\n",
       "      <td>118671.85</td>\n",
       "      <td>383199.62</td>\n",
       "      <td>New York</td>\n",
       "      <td>182901.99</td>\n",
       "    </tr>\n",
       "    <tr>\n",
       "      <th>4</th>\n",
       "      <td>142107.34</td>\n",
       "      <td>91391.77</td>\n",
       "      <td>366168.42</td>\n",
       "      <td>Florida</td>\n",
       "      <td>166187.94</td>\n",
       "    </tr>\n",
       "  </tbody>\n",
       "</table>\n",
       "</div>"
      ],
      "text/plain": [
       "   R&D Spend  Administration  Marketing Spend       State     Profit\n",
       "0  165349.20       136897.80        471784.10    New York  192261.83\n",
       "1  162597.70       151377.59        443898.53  California  191792.06\n",
       "2  153441.51       101145.55        407934.54     Florida  191050.39\n",
       "3  144372.41       118671.85        383199.62    New York  182901.99\n",
       "4  142107.34        91391.77        366168.42     Florida  166187.94"
      ]
     },
     "execution_count": 2,
     "metadata": {},
     "output_type": "execute_result"
    }
   ],
   "source": [
    "# Importing the dataset\n",
    "df = pd.read_csv('./50_Startups.csv')\n",
    "df.head()"
   ]
  },
  {
   "cell_type": "code",
   "execution_count": 3,
   "metadata": {},
   "outputs": [],
   "source": [
    "# Splitting the dataset into the independent and dependent variables\n",
    "x = df.iloc[:, :-1].values\n",
    "y = df.iloc[:, 4].values\n"
   ]
  },
  {
   "cell_type": "code",
   "execution_count": 4,
   "metadata": {},
   "outputs": [
    {
     "data": {
      "text/plain": [
       "array([[165349.2, 136897.8, 471784.1, 'New York'],\n",
       "       [162597.7, 151377.59, 443898.53, 'California'],\n",
       "       [153441.51, 101145.55, 407934.54, 'Florida'],\n",
       "       [144372.41, 118671.85, 383199.62, 'New York'],\n",
       "       [142107.34, 91391.77, 366168.42, 'Florida'],\n",
       "       [131876.9, 99814.71, 362861.36, 'New York'],\n",
       "       [134615.46, 147198.87, 127716.82, 'California'],\n",
       "       [130298.13, 145530.06, 323876.68, 'Florida'],\n",
       "       [120542.52, 148718.95, 311613.29, 'New York'],\n",
       "       [123334.88, 108679.17, 304981.62, 'California'],\n",
       "       [101913.08, 110594.11, 229160.95, 'Florida'],\n",
       "       [100671.96, 91790.61, 249744.55, 'California'],\n",
       "       [93863.75, 127320.38, 249839.44, 'Florida'],\n",
       "       [91992.39, 135495.07, 252664.93, 'California'],\n",
       "       [119943.24, 156547.42, 256512.92, 'Florida'],\n",
       "       [114523.61, 122616.84, 261776.23, 'New York'],\n",
       "       [78013.11, 121597.55, 264346.06, 'California'],\n",
       "       [94657.16, 145077.58, 282574.31, 'New York'],\n",
       "       [91749.16, 114175.79, 294919.57, 'Florida'],\n",
       "       [86419.7, 153514.11, 0.0, 'New York'],\n",
       "       [76253.86, 113867.3, 298664.47, 'California'],\n",
       "       [78389.47, 153773.43, 299737.29, 'New York'],\n",
       "       [73994.56, 122782.75, 303319.26, 'Florida'],\n",
       "       [67532.53, 105751.03, 304768.73, 'Florida'],\n",
       "       [77044.01, 99281.34, 140574.81, 'New York'],\n",
       "       [64664.71, 139553.16, 137962.62, 'California'],\n",
       "       [75328.87, 144135.98, 134050.07, 'Florida'],\n",
       "       [72107.6, 127864.55, 353183.81, 'New York'],\n",
       "       [66051.52, 182645.56, 118148.2, 'Florida'],\n",
       "       [65605.48, 153032.06, 107138.38, 'New York'],\n",
       "       [61994.48, 115641.28, 91131.24, 'Florida'],\n",
       "       [61136.38, 152701.92, 88218.23, 'New York'],\n",
       "       [63408.86, 129219.61, 46085.25, 'California'],\n",
       "       [55493.95, 103057.49, 214634.81, 'Florida'],\n",
       "       [46426.07, 157693.92, 210797.67, 'California'],\n",
       "       [46014.02, 85047.44, 205517.64, 'New York'],\n",
       "       [28663.76, 127056.21, 201126.82, 'Florida'],\n",
       "       [44069.95, 51283.14, 197029.42, 'California'],\n",
       "       [20229.59, 65947.93, 185265.1, 'New York'],\n",
       "       [38558.51, 82982.09, 174999.3, 'California'],\n",
       "       [28754.33, 118546.05, 172795.67, 'California'],\n",
       "       [27892.92, 84710.77, 164470.71, 'Florida'],\n",
       "       [23640.93, 96189.63, 148001.11, 'California'],\n",
       "       [15505.73, 127382.3, 35534.17, 'New York'],\n",
       "       [22177.74, 154806.14, 28334.72, 'California'],\n",
       "       [1000.23, 124153.04, 1903.93, 'New York'],\n",
       "       [1315.46, 115816.21, 297114.46, 'Florida'],\n",
       "       [0.0, 135426.92, 0.0, 'California'],\n",
       "       [542.05, 51743.15, 0.0, 'New York'],\n",
       "       [0.0, 116983.8, 45173.06, 'California']], dtype=object)"
      ]
     },
     "execution_count": 4,
     "metadata": {},
     "output_type": "execute_result"
    }
   ],
   "source": [
    "x_test = x\n",
    "x_test"
   ]
  },
  {
   "cell_type": "markdown",
   "metadata": {},
   "source": [
    "#### Now I have 3 choice to encode the data\n",
    "1. using pandas before spliting\n",
    "2. using pandas after spliting\n",
    "3. using scikit-learn to encode"
   ]
  },
  {
   "cell_type": "code",
   "execution_count": null,
   "metadata": {},
   "outputs": [],
   "source": []
  },
  {
   "cell_type": "markdown",
   "metadata": {},
   "source": [
    "#### Encode using scikit-learn"
   ]
  },
  {
   "cell_type": "code",
   "execution_count": 5,
   "metadata": {},
   "outputs": [],
   "source": [
    "# Encoding categorical data\n",
    "from sklearn.preprocessing import LabelEncoder, OneHotEncoder"
   ]
  },
  {
   "cell_type": "markdown",
   "metadata": {},
   "source": [
    "### Label Encoding \n",
    "###### Label Encoding is a technique that is used to convert categorical columns into numerical ones so that they can be fitted by machine learning models which only take numerical data. It is an important pre-processing step in a machine-learning project"
   ]
  },
  {
   "cell_type": "code",
   "execution_count": 6,
   "metadata": {},
   "outputs": [],
   "source": [
    "# LabelEncoder_x = LabelEncoder()\n",
    "# x[:, 3] = LabelEncoder_x.fit_transform(x[:, 3]) \n"
   ]
  },
  {
   "cell_type": "code",
   "execution_count": 7,
   "metadata": {},
   "outputs": [],
   "source": [
    "# x"
   ]
  },
  {
   "cell_type": "markdown",
   "metadata": {},
   "source": [
    "#### One Hot Encoding \n",
    "###### One hot encoding is a technique that we use to represent categorical variables as numerical values in a machine learning model."
   ]
  },
  {
   "cell_type": "code",
   "execution_count": 8,
   "metadata": {},
   "outputs": [],
   "source": [
    "# Initialize OneHotEncoder\n",
    "encoder = OneHotEncoder(sparse_output=False)"
   ]
  },
  {
   "cell_type": "code",
   "execution_count": 9,
   "metadata": {},
   "outputs": [
    {
     "data": {
      "text/plain": [
       "array([['New York'],\n",
       "       ['California'],\n",
       "       ['Florida'],\n",
       "       ['New York'],\n",
       "       ['Florida'],\n",
       "       ['New York'],\n",
       "       ['California'],\n",
       "       ['Florida'],\n",
       "       ['New York'],\n",
       "       ['California'],\n",
       "       ['Florida'],\n",
       "       ['California'],\n",
       "       ['Florida'],\n",
       "       ['California'],\n",
       "       ['Florida'],\n",
       "       ['New York'],\n",
       "       ['California'],\n",
       "       ['New York'],\n",
       "       ['Florida'],\n",
       "       ['New York'],\n",
       "       ['California'],\n",
       "       ['New York'],\n",
       "       ['Florida'],\n",
       "       ['Florida'],\n",
       "       ['New York'],\n",
       "       ['California'],\n",
       "       ['Florida'],\n",
       "       ['New York'],\n",
       "       ['Florida'],\n",
       "       ['New York'],\n",
       "       ['Florida'],\n",
       "       ['New York'],\n",
       "       ['California'],\n",
       "       ['Florida'],\n",
       "       ['California'],\n",
       "       ['New York'],\n",
       "       ['Florida'],\n",
       "       ['California'],\n",
       "       ['New York'],\n",
       "       ['California'],\n",
       "       ['California'],\n",
       "       ['Florida'],\n",
       "       ['California'],\n",
       "       ['New York'],\n",
       "       ['California'],\n",
       "       ['New York'],\n",
       "       ['Florida'],\n",
       "       ['California'],\n",
       "       ['New York'],\n",
       "       ['California']], dtype=object)"
      ]
     },
     "execution_count": 9,
     "metadata": {},
     "output_type": "execute_result"
    }
   ],
   "source": [
    "# Extract the last column for encoding\n",
    "last_column = x[:, -1].reshape(-1, 1)\n",
    "last_column"
   ]
  },
  {
   "cell_type": "code",
   "execution_count": 10,
   "metadata": {},
   "outputs": [
    {
     "data": {
      "text/plain": [
       "array([[0., 0., 1.],\n",
       "       [1., 0., 0.],\n",
       "       [0., 1., 0.],\n",
       "       [0., 0., 1.],\n",
       "       [0., 1., 0.],\n",
       "       [0., 0., 1.],\n",
       "       [1., 0., 0.],\n",
       "       [0., 1., 0.],\n",
       "       [0., 0., 1.],\n",
       "       [1., 0., 0.],\n",
       "       [0., 1., 0.],\n",
       "       [1., 0., 0.],\n",
       "       [0., 1., 0.],\n",
       "       [1., 0., 0.],\n",
       "       [0., 1., 0.],\n",
       "       [0., 0., 1.],\n",
       "       [1., 0., 0.],\n",
       "       [0., 0., 1.],\n",
       "       [0., 1., 0.],\n",
       "       [0., 0., 1.],\n",
       "       [1., 0., 0.],\n",
       "       [0., 0., 1.],\n",
       "       [0., 1., 0.],\n",
       "       [0., 1., 0.],\n",
       "       [0., 0., 1.],\n",
       "       [1., 0., 0.],\n",
       "       [0., 1., 0.],\n",
       "       [0., 0., 1.],\n",
       "       [0., 1., 0.],\n",
       "       [0., 0., 1.],\n",
       "       [0., 1., 0.],\n",
       "       [0., 0., 1.],\n",
       "       [1., 0., 0.],\n",
       "       [0., 1., 0.],\n",
       "       [1., 0., 0.],\n",
       "       [0., 0., 1.],\n",
       "       [0., 1., 0.],\n",
       "       [1., 0., 0.],\n",
       "       [0., 0., 1.],\n",
       "       [1., 0., 0.],\n",
       "       [1., 0., 0.],\n",
       "       [0., 1., 0.],\n",
       "       [1., 0., 0.],\n",
       "       [0., 0., 1.],\n",
       "       [1., 0., 0.],\n",
       "       [0., 0., 1.],\n",
       "       [0., 1., 0.],\n",
       "       [1., 0., 0.],\n",
       "       [0., 0., 1.],\n",
       "       [1., 0., 0.]])"
      ]
     },
     "execution_count": 10,
     "metadata": {},
     "output_type": "execute_result"
    }
   ],
   "source": [
    "# Encode the last column\n",
    "encoded_city = encoder.fit_transform(last_column)\n",
    "encoded_city"
   ]
  },
  {
   "cell_type": "code",
   "execution_count": 11,
   "metadata": {},
   "outputs": [
    {
     "data": {
      "text/plain": [
       "array([[165349.2, 136897.8, 471784.1, 0.0, 0.0, 1.0],\n",
       "       [162597.7, 151377.59, 443898.53, 1.0, 0.0, 0.0],\n",
       "       [153441.51, 101145.55, 407934.54, 0.0, 1.0, 0.0],\n",
       "       [144372.41, 118671.85, 383199.62, 0.0, 0.0, 1.0],\n",
       "       [142107.34, 91391.77, 366168.42, 0.0, 1.0, 0.0],\n",
       "       [131876.9, 99814.71, 362861.36, 0.0, 0.0, 1.0],\n",
       "       [134615.46, 147198.87, 127716.82, 1.0, 0.0, 0.0],\n",
       "       [130298.13, 145530.06, 323876.68, 0.0, 1.0, 0.0],\n",
       "       [120542.52, 148718.95, 311613.29, 0.0, 0.0, 1.0],\n",
       "       [123334.88, 108679.17, 304981.62, 1.0, 0.0, 0.0],\n",
       "       [101913.08, 110594.11, 229160.95, 0.0, 1.0, 0.0],\n",
       "       [100671.96, 91790.61, 249744.55, 1.0, 0.0, 0.0],\n",
       "       [93863.75, 127320.38, 249839.44, 0.0, 1.0, 0.0],\n",
       "       [91992.39, 135495.07, 252664.93, 1.0, 0.0, 0.0],\n",
       "       [119943.24, 156547.42, 256512.92, 0.0, 1.0, 0.0],\n",
       "       [114523.61, 122616.84, 261776.23, 0.0, 0.0, 1.0],\n",
       "       [78013.11, 121597.55, 264346.06, 1.0, 0.0, 0.0],\n",
       "       [94657.16, 145077.58, 282574.31, 0.0, 0.0, 1.0],\n",
       "       [91749.16, 114175.79, 294919.57, 0.0, 1.0, 0.0],\n",
       "       [86419.7, 153514.11, 0.0, 0.0, 0.0, 1.0],\n",
       "       [76253.86, 113867.3, 298664.47, 1.0, 0.0, 0.0],\n",
       "       [78389.47, 153773.43, 299737.29, 0.0, 0.0, 1.0],\n",
       "       [73994.56, 122782.75, 303319.26, 0.0, 1.0, 0.0],\n",
       "       [67532.53, 105751.03, 304768.73, 0.0, 1.0, 0.0],\n",
       "       [77044.01, 99281.34, 140574.81, 0.0, 0.0, 1.0],\n",
       "       [64664.71, 139553.16, 137962.62, 1.0, 0.0, 0.0],\n",
       "       [75328.87, 144135.98, 134050.07, 0.0, 1.0, 0.0],\n",
       "       [72107.6, 127864.55, 353183.81, 0.0, 0.0, 1.0],\n",
       "       [66051.52, 182645.56, 118148.2, 0.0, 1.0, 0.0],\n",
       "       [65605.48, 153032.06, 107138.38, 0.0, 0.0, 1.0],\n",
       "       [61994.48, 115641.28, 91131.24, 0.0, 1.0, 0.0],\n",
       "       [61136.38, 152701.92, 88218.23, 0.0, 0.0, 1.0],\n",
       "       [63408.86, 129219.61, 46085.25, 1.0, 0.0, 0.0],\n",
       "       [55493.95, 103057.49, 214634.81, 0.0, 1.0, 0.0],\n",
       "       [46426.07, 157693.92, 210797.67, 1.0, 0.0, 0.0],\n",
       "       [46014.02, 85047.44, 205517.64, 0.0, 0.0, 1.0],\n",
       "       [28663.76, 127056.21, 201126.82, 0.0, 1.0, 0.0],\n",
       "       [44069.95, 51283.14, 197029.42, 1.0, 0.0, 0.0],\n",
       "       [20229.59, 65947.93, 185265.1, 0.0, 0.0, 1.0],\n",
       "       [38558.51, 82982.09, 174999.3, 1.0, 0.0, 0.0],\n",
       "       [28754.33, 118546.05, 172795.67, 1.0, 0.0, 0.0],\n",
       "       [27892.92, 84710.77, 164470.71, 0.0, 1.0, 0.0],\n",
       "       [23640.93, 96189.63, 148001.11, 1.0, 0.0, 0.0],\n",
       "       [15505.73, 127382.3, 35534.17, 0.0, 0.0, 1.0],\n",
       "       [22177.74, 154806.14, 28334.72, 1.0, 0.0, 0.0],\n",
       "       [1000.23, 124153.04, 1903.93, 0.0, 0.0, 1.0],\n",
       "       [1315.46, 115816.21, 297114.46, 0.0, 1.0, 0.0],\n",
       "       [0.0, 135426.92, 0.0, 1.0, 0.0, 0.0],\n",
       "       [542.05, 51743.15, 0.0, 0.0, 0.0, 1.0],\n",
       "       [0.0, 116983.8, 45173.06, 1.0, 0.0, 0.0]], dtype=object)"
      ]
     },
     "execution_count": 11,
     "metadata": {},
     "output_type": "execute_result"
    }
   ],
   "source": [
    "# x\n",
    "encoded_x = np.hstack((x[:, :-1], encoded_city))\n",
    "encoded_x"
   ]
  },
  {
   "cell_type": "markdown",
   "metadata": {},
   "source": [
    "### Model Train"
   ]
  },
  {
   "cell_type": "code",
   "execution_count": 12,
   "metadata": {},
   "outputs": [
    {
     "data": {
      "text/plain": [
       "array([[165349.2, 136897.8, 471784.1, 0.0, 0.0],\n",
       "       [162597.7, 151377.59, 443898.53, 1.0, 0.0],\n",
       "       [153441.51, 101145.55, 407934.54, 0.0, 1.0],\n",
       "       [144372.41, 118671.85, 383199.62, 0.0, 0.0],\n",
       "       [142107.34, 91391.77, 366168.42, 0.0, 1.0],\n",
       "       [131876.9, 99814.71, 362861.36, 0.0, 0.0],\n",
       "       [134615.46, 147198.87, 127716.82, 1.0, 0.0],\n",
       "       [130298.13, 145530.06, 323876.68, 0.0, 1.0],\n",
       "       [120542.52, 148718.95, 311613.29, 0.0, 0.0],\n",
       "       [123334.88, 108679.17, 304981.62, 1.0, 0.0],\n",
       "       [101913.08, 110594.11, 229160.95, 0.0, 1.0],\n",
       "       [100671.96, 91790.61, 249744.55, 1.0, 0.0],\n",
       "       [93863.75, 127320.38, 249839.44, 0.0, 1.0],\n",
       "       [91992.39, 135495.07, 252664.93, 1.0, 0.0],\n",
       "       [119943.24, 156547.42, 256512.92, 0.0, 1.0],\n",
       "       [114523.61, 122616.84, 261776.23, 0.0, 0.0],\n",
       "       [78013.11, 121597.55, 264346.06, 1.0, 0.0],\n",
       "       [94657.16, 145077.58, 282574.31, 0.0, 0.0],\n",
       "       [91749.16, 114175.79, 294919.57, 0.0, 1.0],\n",
       "       [86419.7, 153514.11, 0.0, 0.0, 0.0],\n",
       "       [76253.86, 113867.3, 298664.47, 1.0, 0.0],\n",
       "       [78389.47, 153773.43, 299737.29, 0.0, 0.0],\n",
       "       [73994.56, 122782.75, 303319.26, 0.0, 1.0],\n",
       "       [67532.53, 105751.03, 304768.73, 0.0, 1.0],\n",
       "       [77044.01, 99281.34, 140574.81, 0.0, 0.0],\n",
       "       [64664.71, 139553.16, 137962.62, 1.0, 0.0],\n",
       "       [75328.87, 144135.98, 134050.07, 0.0, 1.0],\n",
       "       [72107.6, 127864.55, 353183.81, 0.0, 0.0],\n",
       "       [66051.52, 182645.56, 118148.2, 0.0, 1.0],\n",
       "       [65605.48, 153032.06, 107138.38, 0.0, 0.0],\n",
       "       [61994.48, 115641.28, 91131.24, 0.0, 1.0],\n",
       "       [61136.38, 152701.92, 88218.23, 0.0, 0.0],\n",
       "       [63408.86, 129219.61, 46085.25, 1.0, 0.0],\n",
       "       [55493.95, 103057.49, 214634.81, 0.0, 1.0],\n",
       "       [46426.07, 157693.92, 210797.67, 1.0, 0.0],\n",
       "       [46014.02, 85047.44, 205517.64, 0.0, 0.0],\n",
       "       [28663.76, 127056.21, 201126.82, 0.0, 1.0],\n",
       "       [44069.95, 51283.14, 197029.42, 1.0, 0.0],\n",
       "       [20229.59, 65947.93, 185265.1, 0.0, 0.0],\n",
       "       [38558.51, 82982.09, 174999.3, 1.0, 0.0],\n",
       "       [28754.33, 118546.05, 172795.67, 1.0, 0.0],\n",
       "       [27892.92, 84710.77, 164470.71, 0.0, 1.0],\n",
       "       [23640.93, 96189.63, 148001.11, 1.0, 0.0],\n",
       "       [15505.73, 127382.3, 35534.17, 0.0, 0.0],\n",
       "       [22177.74, 154806.14, 28334.72, 1.0, 0.0],\n",
       "       [1000.23, 124153.04, 1903.93, 0.0, 0.0],\n",
       "       [1315.46, 115816.21, 297114.46, 0.0, 1.0],\n",
       "       [0.0, 135426.92, 0.0, 1.0, 0.0],\n",
       "       [542.05, 51743.15, 0.0, 0.0, 0.0],\n",
       "       [0.0, 116983.8, 45173.06, 1.0, 0.0]], dtype=object)"
      ]
     },
     "execution_count": 12,
     "metadata": {},
     "output_type": "execute_result"
    }
   ],
   "source": [
    "# Avoiding the Dummy Variable Trap\n",
    "final_x = encoded_x[:, :-1]\n",
    "final_x"
   ]
  },
  {
   "cell_type": "code",
   "execution_count": 13,
   "metadata": {},
   "outputs": [],
   "source": [
    "# split the dataset into the training set and test set\n",
    "from sklearn.model_selection import train_test_split\n",
    "x_train, x_test, y_train, y_test = train_test_split(final_x, y, test_size = 0.2, random_state = 0)"
   ]
  },
  {
   "cell_type": "markdown",
   "metadata": {},
   "source": [
    "###### Fitting Model"
   ]
  },
  {
   "cell_type": "code",
   "execution_count": 14,
   "metadata": {},
   "outputs": [
    {
     "data": {
      "text/html": [
       "<style>#sk-container-id-1 {color: black;}#sk-container-id-1 pre{padding: 0;}#sk-container-id-1 div.sk-toggleable {background-color: white;}#sk-container-id-1 label.sk-toggleable__label {cursor: pointer;display: block;width: 100%;margin-bottom: 0;padding: 0.3em;box-sizing: border-box;text-align: center;}#sk-container-id-1 label.sk-toggleable__label-arrow:before {content: \"▸\";float: left;margin-right: 0.25em;color: #696969;}#sk-container-id-1 label.sk-toggleable__label-arrow:hover:before {color: black;}#sk-container-id-1 div.sk-estimator:hover label.sk-toggleable__label-arrow:before {color: black;}#sk-container-id-1 div.sk-toggleable__content {max-height: 0;max-width: 0;overflow: hidden;text-align: left;background-color: #f0f8ff;}#sk-container-id-1 div.sk-toggleable__content pre {margin: 0.2em;color: black;border-radius: 0.25em;background-color: #f0f8ff;}#sk-container-id-1 input.sk-toggleable__control:checked~div.sk-toggleable__content {max-height: 200px;max-width: 100%;overflow: auto;}#sk-container-id-1 input.sk-toggleable__control:checked~label.sk-toggleable__label-arrow:before {content: \"▾\";}#sk-container-id-1 div.sk-estimator input.sk-toggleable__control:checked~label.sk-toggleable__label {background-color: #d4ebff;}#sk-container-id-1 div.sk-label input.sk-toggleable__control:checked~label.sk-toggleable__label {background-color: #d4ebff;}#sk-container-id-1 input.sk-hidden--visually {border: 0;clip: rect(1px 1px 1px 1px);clip: rect(1px, 1px, 1px, 1px);height: 1px;margin: -1px;overflow: hidden;padding: 0;position: absolute;width: 1px;}#sk-container-id-1 div.sk-estimator {font-family: monospace;background-color: #f0f8ff;border: 1px dotted black;border-radius: 0.25em;box-sizing: border-box;margin-bottom: 0.5em;}#sk-container-id-1 div.sk-estimator:hover {background-color: #d4ebff;}#sk-container-id-1 div.sk-parallel-item::after {content: \"\";width: 100%;border-bottom: 1px solid gray;flex-grow: 1;}#sk-container-id-1 div.sk-label:hover label.sk-toggleable__label {background-color: #d4ebff;}#sk-container-id-1 div.sk-serial::before {content: \"\";position: absolute;border-left: 1px solid gray;box-sizing: border-box;top: 0;bottom: 0;left: 50%;z-index: 0;}#sk-container-id-1 div.sk-serial {display: flex;flex-direction: column;align-items: center;background-color: white;padding-right: 0.2em;padding-left: 0.2em;position: relative;}#sk-container-id-1 div.sk-item {position: relative;z-index: 1;}#sk-container-id-1 div.sk-parallel {display: flex;align-items: stretch;justify-content: center;background-color: white;position: relative;}#sk-container-id-1 div.sk-item::before, #sk-container-id-1 div.sk-parallel-item::before {content: \"\";position: absolute;border-left: 1px solid gray;box-sizing: border-box;top: 0;bottom: 0;left: 50%;z-index: -1;}#sk-container-id-1 div.sk-parallel-item {display: flex;flex-direction: column;z-index: 1;position: relative;background-color: white;}#sk-container-id-1 div.sk-parallel-item:first-child::after {align-self: flex-end;width: 50%;}#sk-container-id-1 div.sk-parallel-item:last-child::after {align-self: flex-start;width: 50%;}#sk-container-id-1 div.sk-parallel-item:only-child::after {width: 0;}#sk-container-id-1 div.sk-dashed-wrapped {border: 1px dashed gray;margin: 0 0.4em 0.5em 0.4em;box-sizing: border-box;padding-bottom: 0.4em;background-color: white;}#sk-container-id-1 div.sk-label label {font-family: monospace;font-weight: bold;display: inline-block;line-height: 1.2em;}#sk-container-id-1 div.sk-label-container {text-align: center;}#sk-container-id-1 div.sk-container {/* jupyter's `normalize.less` sets `[hidden] { display: none; }` but bootstrap.min.css set `[hidden] { display: none !important; }` so we also need the `!important` here to be able to override the default hidden behavior on the sphinx rendered scikit-learn.org. See: https://github.com/scikit-learn/scikit-learn/issues/21755 */display: inline-block !important;position: relative;}#sk-container-id-1 div.sk-text-repr-fallback {display: none;}</style><div id=\"sk-container-id-1\" class=\"sk-top-container\"><div class=\"sk-text-repr-fallback\"><pre>LinearRegression()</pre><b>In a Jupyter environment, please rerun this cell to show the HTML representation or trust the notebook. <br />On GitHub, the HTML representation is unable to render, please try loading this page with nbviewer.org.</b></div><div class=\"sk-container\" hidden><div class=\"sk-item\"><div class=\"sk-estimator sk-toggleable\"><input class=\"sk-toggleable__control sk-hidden--visually\" id=\"sk-estimator-id-1\" type=\"checkbox\" checked><label for=\"sk-estimator-id-1\" class=\"sk-toggleable__label sk-toggleable__label-arrow\">LinearRegression</label><div class=\"sk-toggleable__content\"><pre>LinearRegression()</pre></div></div></div></div></div>"
      ],
      "text/plain": [
       "LinearRegression()"
      ]
     },
     "execution_count": 14,
     "metadata": {},
     "output_type": "execute_result"
    }
   ],
   "source": [
    "from sklearn.linear_model import LinearRegression\n",
    "regressor = LinearRegression()\n",
    "regressor.fit(x_train, y_train)"
   ]
  },
  {
   "cell_type": "code",
   "execution_count": 15,
   "metadata": {},
   "outputs": [],
   "source": [
    "# Predicting the test set results\n",
    "y_pred = regressor.predict(x_test)"
   ]
  },
  {
   "cell_type": "code",
   "execution_count": 16,
   "metadata": {},
   "outputs": [
    {
     "data": {
      "text/plain": [
       "array([103015.20159776, 132582.27760831, 132447.73845184,  71976.09851266,\n",
       "       178537.4822107 , 116161.24230157,  67851.69209689,  98791.73374679,\n",
       "       113969.43533008, 167921.06569569])"
      ]
     },
     "execution_count": 16,
     "metadata": {},
     "output_type": "execute_result"
    }
   ],
   "source": [
    "y_pred"
   ]
  },
  {
   "cell_type": "code",
   "execution_count": null,
   "metadata": {},
   "outputs": [],
   "source": []
  }
 ],
 "metadata": {
  "kernelspec": {
   "display_name": "reg_env",
   "language": "python",
   "name": "python3"
  },
  "language_info": {
   "codemirror_mode": {
    "name": "ipython",
    "version": 3
   },
   "file_extension": ".py",
   "mimetype": "text/x-python",
   "name": "python",
   "nbconvert_exporter": "python",
   "pygments_lexer": "ipython3",
   "version": "3.12.0"
  }
 },
 "nbformat": 4,
 "nbformat_minor": 2
}
