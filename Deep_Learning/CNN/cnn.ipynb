{
 "cells": [
  {
   "cell_type": "markdown",
   "metadata": {},
   "source": [
    "# Convolutional neural Network"
   ]
  },
  {
   "cell_type": "markdown",
   "metadata": {},
   "source": [
    "### Classifying Cats and Dogs"
   ]
  },
  {
   "cell_type": "code",
   "execution_count": 1,
   "metadata": {},
   "outputs": [
    {
     "name": "stdout",
     "output_type": "stream",
     "text": [
      "WARNING:tensorflow:From c:\\Users\\Manash\\AppData\\Local\\Programs\\Python\\Python311\\Lib\\site-packages\\keras\\src\\losses.py:2976: The name tf.losses.sparse_softmax_cross_entropy is deprecated. Please use tf.compat.v1.losses.sparse_softmax_cross_entropy instead.\n",
      "\n"
     ]
    },
    {
     "data": {
      "text/plain": [
       "'2.15.0'"
      ]
     },
     "execution_count": 1,
     "metadata": {},
     "output_type": "execute_result"
    }
   ],
   "source": [
    "# Importing the libraries\n",
    "import tensorflow as tf\n",
    "from keras.preprocessing.image import ImageDataGenerator\n",
    "tf.__version__"
   ]
  },
  {
   "cell_type": "markdown",
   "metadata": {},
   "source": [
    "### # Part 1 - Data Preprocessing"
   ]
  },
  {
   "cell_type": "code",
   "execution_count": 2,
   "metadata": {},
   "outputs": [
    {
     "name": "stdout",
     "output_type": "stream",
     "text": [
      "Found 8000 images belonging to 2 classes.\n"
     ]
    }
   ],
   "source": [
    "# Preprocessing the Training set\n",
    "train_datagen = ImageDataGenerator(rescale = 1./255, #feature scaling to pixel values between 0 and 1 (normalization) \n",
    "                                   shear_range = 0.2, #random transformations to prevent overfitting (shear, zoom, flip)    \n",
    "                                   zoom_range = 0.2, #random transformations to prevent overfitting (shear, zoom, flip)\n",
    "                                   horizontal_flip = True)  #random transformations to prevent overfitting (shear, zoom, flip)\n",
    "training_set = train_datagen.flow_from_directory('dataset/training_set',    #path to training set\n",
    "                                                 target_size = (64, 64),    #size of images expected by CNN model   \n",
    "                                                 batch_size = 32,           #number of images to be processed at a time (32 is default)\n",
    "                                                 class_mode = 'binary')     #binary outcome (cat or dog)"
   ]
  },
  {
   "cell_type": "code",
   "execution_count": 3,
   "metadata": {},
   "outputs": [
    {
     "name": "stdout",
     "output_type": "stream",
     "text": [
      "Found 2000 images belonging to 2 classes.\n"
     ]
    }
   ],
   "source": [
    "# Preprocessing the Test set\n",
    "test_datagen = ImageDataGenerator(rescale = 1./255) #feature scaling to pixel values between 0 and 1 (normalization)    \n",
    "test_set = test_datagen.flow_from_directory('dataset/test_set',     #path to test set   \n",
    "                                            target_size = (64, 64), #size of images expected by CNN model\n",
    "                                            batch_size = 32,        #number of images to be processed at a time (32 is default)\n",
    "                                            class_mode = 'binary')  #binary outcome (cat or dog)\n"
   ]
  },
  {
   "cell_type": "markdown",
   "metadata": {},
   "source": [
    "### Part 2 - Building the CNN"
   ]
  },
  {
   "cell_type": "code",
   "execution_count": 4,
   "metadata": {},
   "outputs": [
    {
     "name": "stdout",
     "output_type": "stream",
     "text": [
      "WARNING:tensorflow:From c:\\Users\\Manash\\AppData\\Local\\Programs\\Python\\Python311\\Lib\\site-packages\\keras\\src\\backend.py:873: The name tf.get_default_graph is deprecated. Please use tf.compat.v1.get_default_graph instead.\n",
      "\n"
     ]
    }
   ],
   "source": [
    "#initializing the CNN\n",
    "cnn = tf.keras.models.Sequential()"
   ]
  },
  {
   "cell_type": "code",
   "execution_count": 5,
   "metadata": {},
   "outputs": [],
   "source": [
    "# Step 1 - Convolution\n",
    "cnn.add(tf.keras.layers.Conv2D(filters=32, #number of feature detectors\n",
    "                               kernel_size=3, # 3x3 matrix for feature detector\n",
    "                               activation='relu', #activation function\n",
    "                               input_shape=[64, 64, 3])) #shape of input image (3 for color image, 1 for black and white image) 64x64 pixels"
   ]
  },
  {
   "cell_type": "code",
   "execution_count": 6,
   "metadata": {},
   "outputs": [
    {
     "name": "stdout",
     "output_type": "stream",
     "text": [
      "WARNING:tensorflow:From c:\\Users\\Manash\\AppData\\Local\\Programs\\Python\\Python311\\Lib\\site-packages\\keras\\src\\layers\\pooling\\max_pooling2d.py:161: The name tf.nn.max_pool is deprecated. Please use tf.nn.max_pool2d instead.\n",
      "\n"
     ]
    }
   ],
   "source": [
    "# Step 2 - Pooling\n",
    "cnn.add(tf.keras.layers.MaxPool2D(pool_size=2, # 2x2 matrix\n",
    "                                  strides=2)) #number of pixels to move pooling matrix"
   ]
  },
  {
   "cell_type": "code",
   "execution_count": 7,
   "metadata": {},
   "outputs": [],
   "source": [
    "# Adding a second convolutional layer\n",
    "cnn.add(tf.keras.layers.Conv2D(filters=32, #number of feature detectors\n",
    "                               kernel_size=3, # 3x3 matrix filter for feature detector\n",
    "                               activation='relu')) "
   ]
  },
  {
   "cell_type": "code",
   "execution_count": 8,
   "metadata": {},
   "outputs": [],
   "source": [
    "# Adding a second pooling layer\n",
    "cnn.add(tf.keras.layers.MaxPool2D(pool_size=2, # 2x2 matrix\n",
    "                                  strides=2)) #number of pixels to move pooling matrix\n"
   ]
  },
  {
   "cell_type": "code",
   "execution_count": 9,
   "metadata": {},
   "outputs": [],
   "source": [
    "# Step 3 - Flattening\n",
    "cnn.add(tf.keras.layers.Flatten())"
   ]
  },
  {
   "cell_type": "code",
   "execution_count": 10,
   "metadata": {},
   "outputs": [],
   "source": [
    "# Step 4 - Full Connection\n",
    "cnn.add(tf.keras.layers.Dense(units=128, #number of neurons in hidden layer (128 is default)\n",
    "                              activation='relu')) #activation function"
   ]
  },
  {
   "cell_type": "code",
   "execution_count": 11,
   "metadata": {},
   "outputs": [],
   "source": [
    "# Step 5 - Output Layer\n",
    "cnn.add(tf.keras.layers.Dense(units=1, #number of neurons in output layer (1 for binary outcome)\n",
    "                              activation='sigmoid')) #activation function\n"
   ]
  },
  {
   "cell_type": "markdown",
   "metadata": {},
   "source": [
    "### Part 3 - Training the CNN"
   ]
  },
  {
   "cell_type": "code",
   "execution_count": 12,
   "metadata": {},
   "outputs": [
    {
     "name": "stdout",
     "output_type": "stream",
     "text": [
      "WARNING:tensorflow:From c:\\Users\\Manash\\AppData\\Local\\Programs\\Python\\Python311\\Lib\\site-packages\\keras\\src\\optimizers\\__init__.py:309: The name tf.train.Optimizer is deprecated. Please use tf.compat.v1.train.Optimizer instead.\n",
      "\n"
     ]
    }
   ],
   "source": [
    "# Compiling the CNN\n",
    "cnn.compile(optimizer = 'adam', #optimizer function # adam = stochastic gradient descent\n",
    "            loss = 'binary_crossentropy', #loss function for binary outcome\n",
    "            metrics = ['accuracy']) "
   ]
  },
  {
   "cell_type": "code",
   "execution_count": 13,
   "metadata": {},
   "outputs": [
    {
     "name": "stdout",
     "output_type": "stream",
     "text": [
      "Epoch 1/25\n",
      "WARNING:tensorflow:From c:\\Users\\Manash\\AppData\\Local\\Programs\\Python\\Python311\\Lib\\site-packages\\keras\\src\\utils\\tf_utils.py:492: The name tf.ragged.RaggedTensorValue is deprecated. Please use tf.compat.v1.ragged.RaggedTensorValue instead.\n",
      "\n",
      "WARNING:tensorflow:From c:\\Users\\Manash\\AppData\\Local\\Programs\\Python\\Python311\\Lib\\site-packages\\keras\\src\\engine\\base_layer_utils.py:384: The name tf.executing_eagerly_outside_functions is deprecated. Please use tf.compat.v1.executing_eagerly_outside_functions instead.\n",
      "\n",
      "250/250 [==============================] - 368s 1s/step - loss: 0.6635 - accuracy: 0.5997 - val_loss: 0.6052 - val_accuracy: 0.7035\n",
      "Epoch 2/25\n",
      "250/250 [==============================] - 47s 186ms/step - loss: 0.5956 - accuracy: 0.6814 - val_loss: 0.6341 - val_accuracy: 0.6505\n",
      "Epoch 3/25\n",
      "250/250 [==============================] - 47s 187ms/step - loss: 0.5517 - accuracy: 0.7165 - val_loss: 0.5522 - val_accuracy: 0.7215\n",
      "Epoch 4/25\n",
      "250/250 [==============================] - 48s 191ms/step - loss: 0.5184 - accuracy: 0.7419 - val_loss: 0.5082 - val_accuracy: 0.7515\n",
      "Epoch 5/25\n",
      "250/250 [==============================] - 47s 189ms/step - loss: 0.4960 - accuracy: 0.7623 - val_loss: 0.4874 - val_accuracy: 0.7645\n",
      "Epoch 6/25\n",
      "250/250 [==============================] - 49s 195ms/step - loss: 0.4760 - accuracy: 0.7704 - val_loss: 0.4859 - val_accuracy: 0.7690\n",
      "Epoch 7/25\n",
      "250/250 [==============================] - 159s 639ms/step - loss: 0.4575 - accuracy: 0.7831 - val_loss: 0.4833 - val_accuracy: 0.7850\n",
      "Epoch 8/25\n",
      "250/250 [==============================] - 87s 349ms/step - loss: 0.4530 - accuracy: 0.7856 - val_loss: 0.4842 - val_accuracy: 0.7870\n",
      "Epoch 9/25\n",
      "250/250 [==============================] - 106s 425ms/step - loss: 0.4303 - accuracy: 0.7981 - val_loss: 0.4658 - val_accuracy: 0.7755\n",
      "Epoch 10/25\n",
      "250/250 [==============================] - 120s 478ms/step - loss: 0.4213 - accuracy: 0.8045 - val_loss: 0.4556 - val_accuracy: 0.7895\n",
      "Epoch 11/25\n",
      "250/250 [==============================] - 47s 186ms/step - loss: 0.4094 - accuracy: 0.8061 - val_loss: 0.4718 - val_accuracy: 0.7860\n",
      "Epoch 12/25\n",
      "250/250 [==============================] - 47s 187ms/step - loss: 0.3901 - accuracy: 0.8195 - val_loss: 0.4840 - val_accuracy: 0.7755\n",
      "Epoch 13/25\n",
      "250/250 [==============================] - 47s 187ms/step - loss: 0.3812 - accuracy: 0.8280 - val_loss: 0.5032 - val_accuracy: 0.7730\n",
      "Epoch 14/25\n",
      "250/250 [==============================] - 48s 193ms/step - loss: 0.3718 - accuracy: 0.8321 - val_loss: 0.4667 - val_accuracy: 0.7795\n",
      "Epoch 15/25\n",
      "250/250 [==============================] - 47s 189ms/step - loss: 0.3572 - accuracy: 0.8414 - val_loss: 0.4767 - val_accuracy: 0.7845\n",
      "Epoch 16/25\n",
      "250/250 [==============================] - 47s 190ms/step - loss: 0.3467 - accuracy: 0.8478 - val_loss: 0.4693 - val_accuracy: 0.7960\n",
      "Epoch 17/25\n",
      "250/250 [==============================] - 48s 192ms/step - loss: 0.3391 - accuracy: 0.8499 - val_loss: 0.4442 - val_accuracy: 0.8180\n",
      "Epoch 18/25\n",
      "250/250 [==============================] - 47s 188ms/step - loss: 0.3216 - accuracy: 0.8560 - val_loss: 0.4752 - val_accuracy: 0.7860\n",
      "Epoch 19/25\n",
      "250/250 [==============================] - 46s 185ms/step - loss: 0.3093 - accuracy: 0.8620 - val_loss: 0.4537 - val_accuracy: 0.8015\n",
      "Epoch 20/25\n",
      "250/250 [==============================] - 47s 186ms/step - loss: 0.2892 - accuracy: 0.8750 - val_loss: 0.4691 - val_accuracy: 0.7960\n",
      "Epoch 21/25\n",
      "250/250 [==============================] - 47s 189ms/step - loss: 0.2816 - accuracy: 0.8823 - val_loss: 0.5084 - val_accuracy: 0.7880\n",
      "Epoch 22/25\n",
      "250/250 [==============================] - 46s 186ms/step - loss: 0.2687 - accuracy: 0.8874 - val_loss: 0.5170 - val_accuracy: 0.7940\n",
      "Epoch 23/25\n",
      "250/250 [==============================] - 47s 189ms/step - loss: 0.2715 - accuracy: 0.8825 - val_loss: 0.4757 - val_accuracy: 0.8000\n",
      "Epoch 24/25\n",
      "250/250 [==============================] - 55s 218ms/step - loss: 0.2456 - accuracy: 0.9003 - val_loss: 0.5011 - val_accuracy: 0.8075\n",
      "Epoch 25/25\n",
      "250/250 [==============================] - 48s 191ms/step - loss: 0.2278 - accuracy: 0.9093 - val_loss: 0.4986 - val_accuracy: 0.8100\n"
     ]
    },
    {
     "data": {
      "text/plain": [
       "<keras.src.callbacks.History at 0x1eedf78d110>"
      ]
     },
     "execution_count": 13,
     "metadata": {},
     "output_type": "execute_result"
    }
   ],
   "source": [
    "# Training the CNN on the Training set and evaluating it on the Test set\n",
    "cnn.fit(x = training_set, #training set\n",
    "        validation_data = test_set, #test set\n",
    "        epochs = 25) #number of epochs (25 is default)\n"
   ]
  },
  {
   "cell_type": "code",
   "execution_count": 16,
   "metadata": {},
   "outputs": [
    {
     "name": "stdout",
     "output_type": "stream",
     "text": [
      "1/1 [==============================] - 0s 85ms/step\n",
      "dog\n"
     ]
    }
   ],
   "source": [
    "# Part 3 - Making a single prediction\n",
    "import numpy as np\n",
    "from keras.preprocessing import image\n",
    "test_image = image.load_img('dataset/single_prediction/cat_or_dog_2.jpg', #path to image\n",
    "                            target_size = (64, 64)) #size of image expected by CNN model\n",
    "test_image = image.img_to_array(test_image) #convert image to array\n",
    "test_image = np.expand_dims(test_image, axis = 0) #add extra dimension to array\n",
    "result = cnn.predict(test_image) #predict outcome\n",
    "training_set.class_indices #check class indices\n",
    "if result[0][0] == 1: #if outcome is 1\n",
    "  prediction = 'dog' #then prediction is dog\n",
    "else:\n",
    "    prediction = 'cat' #else prediction is cat\n",
    "print(prediction) #print prediction"
   ]
  }
 ],
 "metadata": {
  "kernelspec": {
   "display_name": "Python 3",
   "language": "python",
   "name": "python3"
  },
  "language_info": {
   "codemirror_mode": {
    "name": "ipython",
    "version": 3
   },
   "file_extension": ".py",
   "mimetype": "text/x-python",
   "name": "python",
   "nbconvert_exporter": "python",
   "pygments_lexer": "ipython3",
   "version": "3.11.7"
  }
 },
 "nbformat": 4,
 "nbformat_minor": 2
}
