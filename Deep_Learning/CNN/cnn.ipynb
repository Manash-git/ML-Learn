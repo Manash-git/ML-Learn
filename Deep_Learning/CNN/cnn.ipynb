{
 "cells": [
  {
   "cell_type": "markdown",
   "metadata": {},
   "source": [
    "# Convolutional neural Network"
   ]
  },
  {
   "cell_type": "markdown",
   "metadata": {},
   "source": [
    "### Classifying Cats and Dogs"
   ]
  },
  {
   "cell_type": "code",
   "execution_count": 1,
   "metadata": {},
   "outputs": [
    {
     "name": "stdout",
     "output_type": "stream",
     "text": [
      "WARNING:tensorflow:From c:\\Users\\Manash\\AppData\\Local\\Programs\\Python\\Python311\\Lib\\site-packages\\keras\\src\\losses.py:2976: The name tf.losses.sparse_softmax_cross_entropy is deprecated. Please use tf.compat.v1.losses.sparse_softmax_cross_entropy instead.\n",
      "\n"
     ]
    },
    {
     "data": {
      "text/plain": [
       "'2.15.0'"
      ]
     },
     "execution_count": 1,
     "metadata": {},
     "output_type": "execute_result"
    }
   ],
   "source": [
    "# Importing the libraries\n",
    "import tensorflow as tf\n",
    "from keras.preprocessing.image import ImageDataGenerator\n",
    "tf.__version__"
   ]
  },
  {
   "cell_type": "markdown",
   "metadata": {},
   "source": [
    "### # Part 1 - Data Preprocessing"
   ]
  },
  {
   "cell_type": "code",
   "execution_count": null,
   "metadata": {},
   "outputs": [],
   "source": [
    "# Preprocessing the Training set\n",
    "train_datagen = ImageDataGenerator(rescale = 1./255, #feature scaling to pixel values between 0 and 1 (normalization) \n",
    "                                   shear_range = 0.2, #random transformations to prevent overfitting (shear, zoom, flip)    \n",
    "                                   zoom_range = 0.2, #random transformations to prevent overfitting (shear, zoom, flip)\n",
    "                                   horizontal_flip = True)  #random transformations to prevent overfitting (shear, zoom, flip)\n",
    "training_set = train_datagen.flow_from_directory('dataset/training_set',    #path to training set\n",
    "                                                 target_size = (64, 64),    #size of images expected by CNN model   \n",
    "                                                 batch_size = 32,           #number of images to be processed at a time (32 is default)\n",
    "                                                 class_mode = 'binary')     #binary outcome (cat or dog)"
   ]
  },
  {
   "cell_type": "code",
   "execution_count": null,
   "metadata": {},
   "outputs": [],
   "source": [
    "# Preprocessing the Test set\n",
    "test_datagen = ImageDataGenerator(rescale = 1./255) #feature scaling to pixel values between 0 and 1 (normalization)    \n",
    "test_set = test_datagen.flow_from_directory('dataset/test_set',     #path to test set   \n",
    "                                            target_size = (64, 64), #size of images expected by CNN model\n",
    "                                            batch_size = 32,        #number of images to be processed at a time (32 is default)\n",
    "                                            class_mode = 'binary')  #binary outcome (cat or dog)\n"
   ]
  }
 ],
 "metadata": {
  "kernelspec": {
   "display_name": "Python 3",
   "language": "python",
   "name": "python3"
  },
  "language_info": {
   "codemirror_mode": {
    "name": "ipython",
    "version": 3
   },
   "file_extension": ".py",
   "mimetype": "text/x-python",
   "name": "python",
   "nbconvert_exporter": "python",
   "pygments_lexer": "ipython3",
   "version": "3.11.7"
  }
 },
 "nbformat": 4,
 "nbformat_minor": 2
}
