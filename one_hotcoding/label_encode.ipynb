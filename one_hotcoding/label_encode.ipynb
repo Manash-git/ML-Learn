{
 "cells": [
  {
   "cell_type": "code",
   "execution_count": 2,
   "metadata": {},
   "outputs": [],
   "source": [
    "import numpy as np"
   ]
  },
  {
   "cell_type": "code",
   "execution_count": 3,
   "metadata": {},
   "outputs": [
    {
     "data": {
      "text/plain": [
       "array([['1', 'John', '23', 'F'],\n",
       "       ['2', 'Jane', '45', 'M'],\n",
       "       ['3', 'Jim', '12', 'M'],\n",
       "       ['4', 'Mark', '67', 'M'],\n",
       "       ['5', 'Mary', '13', 'F'],\n",
       "       ['6', 'Mike', '34', 'M']], dtype='<U11')"
      ]
     },
     "execution_count": 3,
     "metadata": {},
     "output_type": "execute_result"
    }
   ],
   "source": [
    "original_array = np.array([\n",
    "    (1, 'John', 23, 'F'),\n",
    "    (2, 'Jane', 45, 'M'),\n",
    "    (3, 'Jim', 12, 'M'),\n",
    "    (4, 'Mark', 67, 'M'),\n",
    "    (5, 'Mary', 13, 'F'),\n",
    "    (6, 'Mike', 34, 'M')\n",
    "])\n",
    "original_array"
   ]
  },
  {
   "cell_type": "code",
   "execution_count": 4,
   "metadata": {},
   "outputs": [],
   "source": [
    "# Encoding categorical data\n",
    "from sklearn.preprocessing import LabelEncoder"
   ]
  },
  {
   "cell_type": "code",
   "execution_count": 6,
   "metadata": {},
   "outputs": [
    {
     "data": {
      "text/plain": [
       "array([['1', 'John', '23', '0'],\n",
       "       ['2', 'Jane', '45', '1'],\n",
       "       ['3', 'Jim', '12', '1'],\n",
       "       ['4', 'Mark', '67', '1'],\n",
       "       ['5', 'Mary', '13', '0'],\n",
       "       ['6', 'Mike', '34', '1']], dtype='<U11')"
      ]
     },
     "execution_count": 6,
     "metadata": {},
     "output_type": "execute_result"
    }
   ],
   "source": [
    "LabelEncoder_x = LabelEncoder()\n",
    "original_array[:, 3] = LabelEncoder_x.fit_transform(original_array[:, 3]) \n",
    "original_array"
   ]
  },
  {
   "cell_type": "code",
   "execution_count": null,
   "metadata": {},
   "outputs": [],
   "source": []
  }
 ],
 "metadata": {
  "kernelspec": {
   "display_name": "reg_env",
   "language": "python",
   "name": "python3"
  },
  "language_info": {
   "codemirror_mode": {
    "name": "ipython",
    "version": 3
   },
   "file_extension": ".py",
   "mimetype": "text/x-python",
   "name": "python",
   "nbconvert_exporter": "python",
   "pygments_lexer": "ipython3",
   "version": "3.12.0"
  }
 },
 "nbformat": 4,
 "nbformat_minor": 2
}
