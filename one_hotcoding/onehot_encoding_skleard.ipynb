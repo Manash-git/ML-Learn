{
 "cells": [
  {
   "cell_type": "markdown",
   "metadata": {},
   "source": [
    "### OneHot Encode in a simple numpy array where data is label enocoded."
   ]
  },
  {
   "cell_type": "code",
   "execution_count": 2,
   "metadata": {},
   "outputs": [],
   "source": [
    "import numpy as np\n",
    "from sklearn.preprocessing import OneHotEncoder\n",
    "\n",
    "# Given matrix\n",
    "matrix = np.array([\n",
    "    [16.2, 13.8, 47.1, 2],\n",
    "    [16.7, 15.59, 44.53, 0],\n",
    "    [15.51, 10.55, 40.54, 1],\n",
    "    [14.41, 11.85, 38.62, 2]\n",
    "])\n",
    "\n"
   ]
  },
  {
   "cell_type": "code",
   "execution_count": 12,
   "metadata": {},
   "outputs": [
    {
     "data": {
      "text/plain": [
       "array([[2.],\n",
       "       [0.],\n",
       "       [1.],\n",
       "       [2.]])"
      ]
     },
     "execution_count": 12,
     "metadata": {},
     "output_type": "execute_result"
    }
   ],
   "source": [
    "# Extract the last column for encoding\n",
    "# need to reshape because sklearn.onehotencode expects a 2D array\n",
    "\n",
    "last_column = matrix[:, -1].reshape(-1, 1) # -1 means as many rows as needed, 1 means 1 column\n",
    "last_column"
   ]
  },
  {
   "cell_type": "code",
   "execution_count": 10,
   "metadata": {},
   "outputs": [],
   "source": [
    "# Initialize OneHotEncoder\n",
    "onehot_encoder = OneHotEncoder(sparse_output=False)"
   ]
  },
  {
   "cell_type": "code",
   "execution_count": 14,
   "metadata": {},
   "outputs": [
    {
     "data": {
      "text/plain": [
       "array([[0., 0., 1.],\n",
       "       [1., 0., 0.],\n",
       "       [0., 1., 0.],\n",
       "       [0., 0., 1.]])"
      ]
     },
     "execution_count": 14,
     "metadata": {},
     "output_type": "execute_result"
    }
   ],
   "source": [
    "# Encode the last column\n",
    "encoded_column = onehot_encoder.fit_transform(last_column)\n",
    "encoded_column"
   ]
  },
  {
   "cell_type": "code",
   "execution_count": 16,
   "metadata": {},
   "outputs": [
    {
     "data": {
      "text/plain": [
       "array([[16.2 , 13.8 , 47.1 ,  0.  ,  0.  ,  1.  ],\n",
       "       [16.7 , 15.59, 44.53,  1.  ,  0.  ,  0.  ],\n",
       "       [15.51, 10.55, 40.54,  0.  ,  1.  ,  0.  ],\n",
       "       [14.41, 11.85, 38.62,  0.  ,  0.  ,  1.  ]])"
      ]
     },
     "execution_count": 16,
     "metadata": {},
     "output_type": "execute_result"
    }
   ],
   "source": [
    "# Insert the encoded columns back into the original matrix\n",
    "\n",
    "encoded_matrix = np.hstack((matrix[:, :-1], encoded_column))  # hstack means horizontal stack (add columns)\n",
    "encoded_matrix"
   ]
  }
 ],
 "metadata": {
  "kernelspec": {
   "display_name": "Python 3",
   "language": "python",
   "name": "python3"
  },
  "language_info": {
   "codemirror_mode": {
    "name": "ipython",
    "version": 3
   },
   "file_extension": ".py",
   "mimetype": "text/x-python",
   "name": "python",
   "nbconvert_exporter": "python",
   "pygments_lexer": "ipython3",
   "version": "3.12.0"
  }
 },
 "nbformat": 4,
 "nbformat_minor": 2
}
