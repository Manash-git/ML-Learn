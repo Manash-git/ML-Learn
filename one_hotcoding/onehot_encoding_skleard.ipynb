{
 "cells": [
  {
   "cell_type": "markdown",
   "metadata": {},
   "source": [
    "### OneHot Encode in a simple numpy array where data is label enocoded."
   ]
  },
  {
   "cell_type": "code",
   "execution_count": 1,
   "metadata": {},
   "outputs": [
    {
     "data": {
      "text/plain": [
       "array([[16.2 , 13.8 , 47.1 ,  2.  ],\n",
       "       [16.7 , 15.59, 44.53,  0.  ],\n",
       "       [15.51, 10.55, 40.54,  1.  ],\n",
       "       [14.41, 11.85, 38.62,  2.  ]])"
      ]
     },
     "execution_count": 1,
     "metadata": {},
     "output_type": "execute_result"
    }
   ],
   "source": [
    "import numpy as np\n",
    "from sklearn.preprocessing import OneHotEncoder\n",
    "\n",
    "# Given matrix\n",
    "matrix = np.array([\n",
    "    [16.2, 13.8, 47.1, 2],\n",
    "    [16.7, 15.59, 44.53, 0],\n",
    "    [15.51, 10.55, 40.54, 1],\n",
    "    [14.41, 11.85, 38.62, 2]\n",
    "])\n",
    "\n",
    "matrix"
   ]
  },
  {
   "cell_type": "code",
   "execution_count": 2,
   "metadata": {},
   "outputs": [
    {
     "data": {
      "text/plain": [
       "array([[2.],\n",
       "       [0.],\n",
       "       [1.],\n",
       "       [2.]])"
      ]
     },
     "execution_count": 2,
     "metadata": {},
     "output_type": "execute_result"
    }
   ],
   "source": [
    "# Extract the last column for encoding\n",
    "# need to reshape because sklearn.onehotencode expects a 2D array\n",
    "\n",
    "last_column = matrix[:, -1].reshape(-1, 1) # -1 means as many rows as needed, 1 means 1 column\n",
    "last_column"
   ]
  },
  {
   "cell_type": "code",
   "execution_count": 3,
   "metadata": {},
   "outputs": [],
   "source": [
    "# Initialize OneHotEncoder\n",
    "onehot_encoder = OneHotEncoder(sparse_output=False)"
   ]
  },
  {
   "cell_type": "code",
   "execution_count": 4,
   "metadata": {},
   "outputs": [
    {
     "data": {
      "text/plain": [
       "array([[0., 0., 1.],\n",
       "       [1., 0., 0.],\n",
       "       [0., 1., 0.],\n",
       "       [0., 0., 1.]])"
      ]
     },
     "execution_count": 4,
     "metadata": {},
     "output_type": "execute_result"
    }
   ],
   "source": [
    "# Encode the last column\n",
    "encoded_column = onehot_encoder.fit_transform(last_column)\n",
    "encoded_column"
   ]
  },
  {
   "cell_type": "code",
   "execution_count": 5,
   "metadata": {},
   "outputs": [
    {
     "data": {
      "text/plain": [
       "array([[16.2 , 13.8 , 47.1 ,  0.  ,  0.  ,  1.  ],\n",
       "       [16.7 , 15.59, 44.53,  1.  ,  0.  ,  0.  ],\n",
       "       [15.51, 10.55, 40.54,  0.  ,  1.  ,  0.  ],\n",
       "       [14.41, 11.85, 38.62,  0.  ,  0.  ,  1.  ]])"
      ]
     },
     "execution_count": 5,
     "metadata": {},
     "output_type": "execute_result"
    }
   ],
   "source": [
    "# Insert the encoded columns back into the original matrix\n",
    "\n",
    "encoded_matrix = np.hstack((matrix[:, :-1], encoded_column))  # hstack means horizontal stack (add columns)\n",
    "encoded_matrix"
   ]
  },
  {
   "cell_type": "markdown",
   "metadata": {},
   "source": [
    "#### Create a numpy array practise"
   ]
  },
  {
   "cell_type": "code",
   "execution_count": 6,
   "metadata": {},
   "outputs": [],
   "source": [
    "import numpy as np\n"
   ]
  },
  {
   "cell_type": "code",
   "execution_count": 7,
   "metadata": {},
   "outputs": [
    {
     "data": {
      "text/plain": [
       "[('ID', int), ('Name', 'U10'), ('Age', int), ('Gender', 'U10')]"
      ]
     },
     "execution_count": 7,
     "metadata": {},
     "output_type": "execute_result"
    }
   ],
   "source": [
    "# Define the data types for the structured array\n",
    "dtypes = [('ID', int), ('Name', 'U10'), ('Age', int), ('Gender', 'U10')]\n",
    "dtypes"
   ]
  },
  {
   "cell_type": "code",
   "execution_count": 8,
   "metadata": {},
   "outputs": [
    {
     "name": "stdout",
     "output_type": "stream",
     "text": [
      "<class 'numpy.ndarray'>\n"
     ]
    },
    {
     "data": {
      "text/plain": [
       "array([(0, '', 0, ''), (0, '', 0, ''), (0, '', 0, ''), (0, '', 0, ''),\n",
       "       (0, '', 0, ''), (0, '', 0, '')],\n",
       "      dtype=[('ID', '<i4'), ('Name', '<U10'), ('Age', '<i4'), ('Gender', '<U10')])"
      ]
     },
     "execution_count": 8,
     "metadata": {},
     "output_type": "execute_result"
    }
   ],
   "source": [
    "# Create a structured array\n",
    "# np.empty creates  an array of the given shape and data type, without initializing entries\n",
    "\n",
    "data_array = np.empty(6, dtype=dtypes) # 3 rows\n",
    "print(type(data_array))\n",
    "data_array"
   ]
  },
  {
   "cell_type": "code",
   "execution_count": 9,
   "metadata": {},
   "outputs": [],
   "source": [
    "# Populate the structured array with data\n",
    "data_array['ID'] = [1, 2, 3, 4, 5, 6]\n",
    "data_array['Name'] = ['John', 'Jane', 'Jim', 'Mark', 'Mary', 'Mike']    # U10 means 10 characters\n",
    "data_array['Age'] = [23, 45, 12, 67, 13, 34]\n",
    "data_array[\"Gender\"] = ['F', 'M', 'M', 'M', 'F', 'M']"
   ]
  },
  {
   "cell_type": "code",
   "execution_count": 10,
   "metadata": {},
   "outputs": [
    {
     "data": {
      "text/plain": [
       "array([(1, 'John', 23, 'F'), (2, 'Jane', 45, 'M'), (3, 'Jim', 12, 'M'),\n",
       "       (4, 'Mark', 67, 'M'), (5, 'Mary', 13, 'F'), (6, 'Mike', 34, 'M')],\n",
       "      dtype=[('ID', '<i4'), ('Name', '<U10'), ('Age', '<i4'), ('Gender', '<U10')])"
      ]
     },
     "execution_count": 10,
     "metadata": {},
     "output_type": "execute_result"
    }
   ],
   "source": [
    "data_array"
   ]
  },
  {
   "cell_type": "markdown",
   "metadata": {},
   "source": [
    "## Now implement onehotencoder\n"
   ]
  },
  {
   "cell_type": "code",
   "execution_count": 11,
   "metadata": {},
   "outputs": [
    {
     "data": {
      "text/plain": [
       "array([['1', 'John', '23', 'F'],\n",
       "       ['2', 'Jane', '45', 'M'],\n",
       "       ['3', 'Jim', '12', 'M'],\n",
       "       ['4', 'Mark', '67', 'M'],\n",
       "       ['5', 'Mary', '13', 'F'],\n",
       "       ['6', 'Mike', '34', 'M']], dtype='<U11')"
      ]
     },
     "execution_count": 11,
     "metadata": {},
     "output_type": "execute_result"
    }
   ],
   "source": [
    "original_array = np.array([\n",
    "    (1, 'John', 23, 'F'),\n",
    "    (2, 'Jane', 45, 'M'),\n",
    "    (3, 'Jim', 12, 'M'),\n",
    "    (4, 'Mark', 67, 'M'),\n",
    "    (5, 'Mary', 13, 'F'),\n",
    "    (6, 'Mike', 34, 'M')\n",
    "])\n",
    "original_array"
   ]
  },
  {
   "cell_type": "code",
   "execution_count": 12,
   "metadata": {},
   "outputs": [
    {
     "data": {
      "text/plain": [
       "array([['F'],\n",
       "       ['M'],\n",
       "       ['M'],\n",
       "       ['M'],\n",
       "       ['F'],\n",
       "       ['M']], dtype='<U11')"
      ]
     },
     "execution_count": 12,
     "metadata": {},
     "output_type": "execute_result"
    }
   ],
   "source": [
    "# extract the Gender column\n",
    "gender_column = original_array[:,3].reshape(-1, 1)\n",
    "gender_column"
   ]
  },
  {
   "cell_type": "code",
   "execution_count": 13,
   "metadata": {},
   "outputs": [],
   "source": [
    "#initialize OneHotEncoder\n",
    "from sklearn.preprocessing import OneHotEncoder\n",
    "onehot_encoder = OneHotEncoder(sparse_output=False) # sparse_output=False means return a numpy array\n"
   ]
  },
  {
   "cell_type": "code",
   "execution_count": 14,
   "metadata": {},
   "outputs": [
    {
     "data": {
      "text/plain": [
       "array([[1., 0.],\n",
       "       [0., 1.],\n",
       "       [0., 1.],\n",
       "       [0., 1.],\n",
       "       [1., 0.],\n",
       "       [0., 1.]])"
      ]
     },
     "execution_count": 14,
     "metadata": {},
     "output_type": "execute_result"
    }
   ],
   "source": [
    "# we don't need to reshape the column because it's already 2D\n",
    "# LabelEncoder is not needed because the data is already encoded as strings\n",
    "\n",
    "\n",
    "gender_encode = onehot_encoder.fit_transform(gender_column)\n",
    "gender_encode"
   ]
  },
  {
   "cell_type": "code",
   "execution_count": 15,
   "metadata": {},
   "outputs": [
    {
     "data": {
      "text/plain": [
       "array([['1', 'John', '23', 'F', '1.0', '0.0'],\n",
       "       ['2', 'Jane', '45', 'M', '0.0', '1.0'],\n",
       "       ['3', 'Jim', '12', 'M', '0.0', '1.0'],\n",
       "       ['4', 'Mark', '67', 'M', '0.0', '1.0'],\n",
       "       ['5', 'Mary', '13', 'F', '1.0', '0.0'],\n",
       "       ['6', 'Mike', '34', 'M', '0.0', '1.0']], dtype='<U32')"
      ]
     },
     "execution_count": 15,
     "metadata": {},
     "output_type": "execute_result"
    }
   ],
   "source": [
    "# Merge the encoded column back into the original array\n",
    "# hstack means horizontal stack (add columns)\n",
    "\n",
    "# Insert the encoded columns back into the original matrix\n",
    "\n",
    "\n",
    "merged_array = np.hstack((original_array,gender_encode))  # all columns\n",
    "# merged_array = np.hstack((original_array[:, :-1],gender_encode))  # all columns except last one\n",
    "\n",
    "merged_array"
   ]
  },
  {
   "cell_type": "markdown",
   "metadata": {},
   "source": [
    "#### Below is the example of merging two array without custom dtype issues\n"
   ]
  },
  {
   "cell_type": "code",
   "execution_count": 16,
   "metadata": {},
   "outputs": [
    {
     "name": "stdout",
     "output_type": "stream",
     "text": [
      "Data type: <U11\n",
      "[['1' 'John' '23' 'F' '1.0' '0.0']\n",
      " ['2' 'Jane' '45' 'M' '0.0' '1.0']\n",
      " ['3' 'Jim' '12' 'M' '0.0' '1.0']\n",
      " ['4' 'Mark' '67' 'M' '0.0' '1.0']\n",
      " ['5' 'Mary' '13' 'F' '1.0' '0.0']\n",
      " ['6' 'Mike' '34' 'M' '0.0' '1.0']]\n"
     ]
    }
   ],
   "source": [
    "import numpy as np\n",
    "\n",
    "# Original structured array\n",
    "original_array = np.array([\n",
    "    (1, 'John', 23, 'F'),\n",
    "    (2, 'Jane', 45, 'M'),\n",
    "    (3, 'Jim', 12, 'M'),\n",
    "    (4, 'Mark', 67, 'M'),\n",
    "    (5, 'Mary', 13, 'F'),\n",
    "    (6, 'Mike', 34, 'M')\n",
    "])\n",
    "print(\"Data type:\", original_array.dtype)\n",
    "# One-hot encoded array\n",
    "one_hot_encoded = np.array([\n",
    "    [1., 0.],\n",
    "    [0., 1.],\n",
    "    [0., 1.],\n",
    "    [0., 1.],\n",
    "    [1., 0.],\n",
    "    [0., 1.]\n",
    "])\n",
    "\n",
    "\n",
    "# Merge the original array and the one-hot encoded array\n",
    "merged_array = np.column_stack((original_array, one_hot_encoded))\n",
    "\n",
    "# Display the merged array\n",
    "print(merged_array)\n"
   ]
  },
  {
   "cell_type": "code",
   "execution_count": null,
   "metadata": {},
   "outputs": [],
   "source": []
  }
 ],
 "metadata": {
  "kernelspec": {
   "display_name": "Python 3",
   "language": "python",
   "name": "python3"
  },
  "language_info": {
   "codemirror_mode": {
    "name": "ipython",
    "version": 3
   },
   "file_extension": ".py",
   "mimetype": "text/x-python",
   "name": "python",
   "nbconvert_exporter": "python",
   "pygments_lexer": "ipython3",
   "version": "3.12.0"
  }
 },
 "nbformat": 4,
 "nbformat_minor": 2
}
